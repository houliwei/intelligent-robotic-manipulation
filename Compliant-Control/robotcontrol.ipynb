{
 "cells": [
  {
   "cell_type": "code",
   "execution_count": 1,
   "metadata": {},
   "outputs": [],
   "source": [
    "import pybullet as p\n",
    "import pybullet_data\n",
    "import math\n",
    "import time\n",
    "import  matplotlib.pyplot as plt\n",
    "import numpy as np"
   ]
  },
  {
   "cell_type": "code",
   "execution_count": 2,
   "metadata": {},
   "outputs": [],
   "source": [
    "physicsClient = p.connect(p.GUI)#or p.DIRECT for non-graphical version\n",
    "p.setAdditionalSearchPath(pybullet_data.getDataPath()) #used by loadURDF"
   ]
  },
  {
   "cell_type": "code",
   "execution_count": 3,
   "metadata": {},
   "outputs": [],
   "source": [
    "p.setGravity(0,0,-9.8)\n",
    "planeId = p.loadURDF(\"plane.urdf\")"
   ]
  },
  {
   "cell_type": "code",
   "execution_count": 4,
   "metadata": {},
   "outputs": [],
   "source": [
    "# cubeStartPos = [0,0,0]\n",
    "cubeStartPos = [0,0,0]\n",
    "cubeStartOrientation = p.getQuaternionFromEuler([3*math.pi/2,0,0])\n",
    "boxId = p.loadURDF(\"C:/ZHR/robotcontrol/NACHI/NACHI1/nachi.urdf\",cubeStartPos, cubeStartOrientation,useFixedBase=True)"
   ]
  },
  {
   "cell_type": "code",
   "execution_count": 5,
   "metadata": {},
   "outputs": [],
   "source": [
    "cubeStartPosxfd = [0.6,0,0.3]\n",
    "cubeStartOrientationxfd = p.getQuaternionFromEuler([0,0,0])\n",
    "xfdId = p.loadURDF(\"C:/ZHR/robotcontrol/NACHI/xfd/urdf/xfd.urdf\",cubeStartPosxfd, cubeStartOrientationxfd,useFixedBase=True)"
   ]
  },
  {
   "cell_type": "code",
   "execution_count": 6,
   "metadata": {},
   "outputs": [],
   "source": [
    "cubeStartPosgzt = [0.6,0,0]\n",
    "cubeStartOrientationgzt = p.getQuaternionFromEuler([0,0,0])\n",
    "gztId = p.loadURDF(\"C:/ZHR/robotcontrol/NACHI/gzt/urdf/gzt.urdf\",cubeStartPosgzt, cubeStartOrientationgzt,useFixedBase=True)"
   ]
  },
  {
   "cell_type": "code",
   "execution_count": 7,
   "metadata": {
    "scrolled": false
   },
   "outputs": [
    {
     "name": "stdout",
     "output_type": "stream",
     "text": [
      "(0.0, 0.5, (0.0, 0.0, 0.0), (1.0310988315208252e-16, 0.0024999999441206455, -3.570639265009676e-17), (0.0, 0.0, 0.0, 1.0), 0.0, 0.0, 0.0, -1.0, -1.0) \n",
      "\n",
      "(0.0, 0.5, (0.0, 0.0, 0.0), (-0.04471199959516525, -0.08581899851560593, -3.1194998882710934e-05), (0.0, 0.0, 0.0, 1.0), 0.0, 0.0, 0.0, -1.0, -1.0) \n",
      "\n"
     ]
    }
   ],
   "source": [
    "print(p.getDynamicsInfo(xfdId,-1),'\\n')\n",
    "print(p.getDynamicsInfo(boxId,-1),'\\n')"
   ]
  },
  {
   "cell_type": "code",
   "execution_count": 8,
   "metadata": {},
   "outputs": [],
   "source": [
    "def TargetPosition(t):\n",
    "    if t<1:\n",
    "        pos=0.625-0.5*0.05*t**2\n",
    "    elif t<=3:\n",
    "        pos=0.6-0.05*(t-1)\n",
    "    elif t<=4:\n",
    "        pos=0.5-0.05*(t-3)+0.5*0.05*(t-3)**2\n",
    "    else:\n",
    "        pos=0.467\n",
    "    return pos"
   ]
  },
  {
   "cell_type": "code",
   "execution_count": 9,
   "metadata": {},
   "outputs": [],
   "source": [
    "class ImpedanceControl:\n",
    "    def __init__(self):\n",
    "        self.Md = 0\n",
    "        self.Bd = 0\n",
    "        self.Kd = 0\n",
    "        self.Initialize()\n",
    "    def Initialize(self):\n",
    "        #set time variable\n",
    "        import time\n",
    "        self.currtm = time.time()\n",
    "        self.prevtm = self.currtm\n",
    "        NoT = 0  #number of cycle\n",
    "    def SetMd(self,MdInput):\n",
    "        self.Md = MdInput\n",
    "    def SetBd(self,BdInput):\n",
    "        self.Bd = BdInput\n",
    "    def SetKd(self,KdInput):\n",
    "        self.Kd = KdInput\n",
    "    def GenOut(self,PPerror,Perror,Cerror,PPdeltaX,PdeltaX):\n",
    "        Omega1 = 4*self.Md + 2*self.Bd*T + self.Kd*(T**2)\n",
    "        Omega2 = -8*self.Md + 2*self.Kd*(T**2)\n",
    "        Omega3 = 4*self.Md - 2*self.Bd*T + self.Kd*(T**2)\n",
    "        if NoT == 1:\n",
    "            return T**2 / Omega1 * Cerror\n",
    "        elif NoT == 2:\n",
    "            return T**2 / Omega1 * (Cerror + 2*Perror) - Omega2/Omega1*PdeltaX\n",
    "        else:\n",
    "            return T**2 / Omega1 *(Cerror + 2*Perror + PPerror) - (Omega2/Omega1)*PdeltaX - (Omega3/Omega1)*PPdeltaX"
   ]
  },
  {
   "cell_type": "code",
   "execution_count": 10,
   "metadata": {
    "scrolled": true
   },
   "outputs": [
    {
     "name": "stdout",
     "output_type": "stream",
     "text": [
      "6\n",
      "1\n",
      "(0.0, 0.0, (0.0, 0.0, 0.0, 0.0, 0.0, 0.0), 0.0) \n",
      "\n",
      "(0.0, 0.0, (0.0, 0.0, 0.0, 0.0, 0.0, 0.0), 0.0) \n",
      "\n",
      "(0.0, 0.0, (0.0, 0.0, 0.0, 0.0, 0.0, 0.0), 0.0) \n",
      "\n",
      "(0.0, 0.0, (0.0, 0.0, 0.0, 0.0, 0.0, 0.0), 0.0) \n",
      "\n",
      "(0.0, 0.0, (0.0, 0.0, 0.0, 0.0, 0.0, 0.0), 0.0) \n",
      "\n",
      "(0.0, 0.0, (0.0, 0.0, 0.0, 0.0, 0.0, 0.0), 0.0) \n",
      "\n"
     ]
    }
   ],
   "source": [
    "print(p.getNumJoints(boxId))\n",
    "print(boxId)\n",
    "# 查看关节信息\n",
    "p.setRealTimeSimulation(1)\n",
    "for i in range(p.getNumJoints(boxId)):\n",
    "   print(p.getJointState(boxId, i),'\\n')\n",
    "   p.setJointMotorControl2(boxId, i, p.POSITION_CONTROL, targetPosition=0, force=2000)\n",
    "p.setRealTimeSimulation(0)"
   ]
  },
  {
   "cell_type": "code",
   "execution_count": 11,
   "metadata": {},
   "outputs": [],
   "source": [
    "# p.changeDynamics(xfdId,-1,contactStiffness=10000,contactDamping=100)\n",
    "# print(p.getDynamicsInfo(xfdId,-1),'\\n')\n",
    "# print(p.getDynamicsInfo(boxId,-1),'\\n')"
   ]
  },
  {
   "cell_type": "code",
   "execution_count": 12,
   "metadata": {},
   "outputs": [],
   "source": [
    "# p.setJointMotorControl2(boxId,4,controlMode=p.VELOCITY_CONTROL,targetVelocity=0.1,force=1000)\n",
    "# p.setJointMotorControl2(boxId,2,controlMode=p.POSITION_CONTROL,targetPosition=math.pi/4,force=2000)\n",
    "# p.setJointMotorControl2(boxId,4,controlMode=p.POSITION_CONTROL,targetPosition=-math.pi/4,force=2000)"
   ]
  },
  {
   "cell_type": "code",
   "execution_count": 13,
   "metadata": {},
   "outputs": [],
   "source": [
    "# print(p.getLinkState(boxId,5)[0])"
   ]
  },
  {
   "cell_type": "code",
   "execution_count": 14,
   "metadata": {},
   "outputs": [],
   "source": [
    "#创建实例\n",
    "IC = ImpedanceControl()\n",
    "#设置阻抗控制参数\n",
    "IC.SetMd(1)    \n",
    "IC.SetBd(800)  \n",
    "IC.SetKd(1000) \n",
    "# 阻抗控制器工作频率100Hz\n",
    "T = 0.01\n",
    "#Ke = 20    #stiffness of the environment\n",
    "\n",
    "pperror,perror = 0,0\n",
    "deltax,pdeltax,ppdeltax = 0,0,0\n",
    "Fd=6\n",
    "NoT=0"
   ]
  },
  {
   "cell_type": "code",
   "execution_count": 15,
   "metadata": {},
   "outputs": [],
   "source": [
    "jd=[0.5,0.5,0.5,0.5,0.5,0.5,0.5]  #Using large values for the joints that we don't want to move. eg：jd=[100.0,100.0,100.0,100.0,100.0,100.0,0.5]\n",
    "# 初始位姿\n",
    "pos = [0.352,0,0.625]\n",
    "orn = p.getQuaternionFromEuler([0,0,0])\n",
    "J5P = 0\n",
    "#安装力传感器\n",
    "p.enableJointForceTorqueSensor(boxId,5)\n",
    "# x方向力的记录\n",
    "Fz1 = []\n",
    "TT=[]\n",
    "TarPos=[]\n",
    "ActPos=[]\n",
    "# 仿真\n",
    "# p.setTimeStep(0.001)\n",
    "ContactForce = 0\n",
    "t=0\n",
    "p.setRealTimeSimulation(1)\n",
    "for i in range(1000):\n",
    "#     p.stepSimulation()\n",
    "    pos[2] = TargetPosition(t)-deltax\n",
    "    TT.append(t)\n",
    "    TarPos.append(pos[2])\n",
    "    jointPoses = p.calculateInverseKinematics(boxId,5,pos,orn,jointDamping=jd)\n",
    "    p.setJointMotorControlArray(boxId,[0,1,2,3,4,5],controlMode=p.POSITION_CONTROL,targetPositions=jointPoses,\n",
    "                                targetVelocities=[0,0,0,0,0,0],forces=[1000,1000,1000,1000,1000,1000],\n",
    "                               positionGains=[0.03,0.03,0.03,0.03,0.03,0.03],\n",
    "                               velocityGains=[1,1,1,1,1,1])\n",
    "    J5EndState=p.getJointState(boxId,jointIndex=5)    # output: (1)jointPosition ; (2)jointVelocity ; (3)jointReactionForces (4)appliedJointMotorTorque\n",
    "    Fz1.append(-J5EndState[2][2])     #get F in x-axis\n",
    "    t += T\n",
    "    ContactForce = -J5EndState[2][2]\n",
    "    ActPos.append(p.getLinkState(boxId,5)[0][2])\n",
    "    \n",
    "    if ContactForce > 0:       #接触后便恒力跟踪\n",
    "        error = Fd-ContactForce  # + - ???\n",
    "        deltax = IC.GenOut(PPerror=pperror,Perror=perror,Cerror=error,PPdeltaX=ppdeltax,PdeltaX=pdeltax)\n",
    "        # prepare for next loop\n",
    "        ppdeltax = pdeltax\n",
    "        pdeltax = deltax\n",
    "        pperror = perror\n",
    "        perror = error   \n",
    "    else:\n",
    "        deltax = 0              \n",
    "    NoT+=1\n",
    "    time.sleep(T)\n",
    "p.setRealTimeSimulation(0)"
   ]
  },
  {
   "cell_type": "code",
   "execution_count": 16,
   "metadata": {},
   "outputs": [],
   "source": [
    "# print(p.getLinkState(boxId,5)[0])"
   ]
  },
  {
   "cell_type": "code",
   "execution_count": 17,
   "metadata": {
    "scrolled": false
   },
   "outputs": [],
   "source": [
    "# for i in range(p.getNumJoints(boxId)):\n",
    "#    print(p.getJointState(boxId, i),'\\n')"
   ]
  },
  {
   "cell_type": "code",
   "execution_count": 18,
   "metadata": {
    "scrolled": true
   },
   "outputs": [
    {
     "data": {
      "image/png": "[encoded data removed]",
      "text/plain": [
       "<Figure size 432x288 with 1 Axes>"
      ]
     },
     "metadata": {
      "needs_background": "light"
     },
     "output_type": "display_data"
    },
    {
     "data": {
      "image/png": "[encoded data removed]",
      "text/plain": [
       "<Figure size 432x288 with 1 Axes>"
      ]
     },
     "metadata": {
      "needs_background": "light"
     },
     "output_type": "display_data"
    }
   ],
   "source": [
    "x=TT\n",
    "y = Fz1\n",
    "plt.plot(x, y, 'r-')\n",
    "plt.show()\n",
    "plt.plot(x, TarPos, 'b-',x,ActPos,'r--')\n",
    "plt.show()"
   ]
  },
  {
   "cell_type": "code",
   "execution_count": null,
   "metadata": {},
   "outputs": [],
   "source": []
  },
  {
   "cell_type": "code",
   "execution_count": 19,
   "metadata": {},
   "outputs": [],
   "source": [
    "# time.sleep(0.03)\n",
    "p.disconnect()"
   ]
  },
  {
   "cell_type": "code",
   "execution_count": null,
   "metadata": {},
   "outputs": [],
   "source": []
  }
 ],
 "metadata": {
  "kernelspec": {
   "display_name": "Python 3",
   "language": "python",
   "name": "python3"
  },
  "language_info": {
   "codemirror_mode": {
    "name": "ipython",
    "version": 3
   },
   "file_extension": ".py",
   "mimetype": "text/x-python",
   "name": "python",
   "nbconvert_exporter": "python",
   "pygments_lexer": "ipython3",
   "version": "3.7.3"
  }
 },
 "nbformat": 4,
 "nbformat_minor": 2
}
