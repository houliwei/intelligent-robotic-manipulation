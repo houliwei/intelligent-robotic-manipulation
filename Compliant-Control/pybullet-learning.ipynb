{
 "cells": [
  {
   "cell_type": "markdown",
   "metadata": {},
   "source": [
    "# 准备"
   ]
  },
  {
   "cell_type": "code",
   "execution_count": 1,
   "metadata": {
    "ExecuteTime": {
     "end_time": "2019-01-08T10:37:10.263949Z",
     "start_time": "2019-01-08T10:37:09.880185Z"
    }
   },
   "outputs": [],
   "source": [
    "%matplotlib inline\n",
    "import pybullet as p\n",
    "import pybullet_data\n",
    "import math\n",
    "import time\n",
    "import  matplotlib.pyplot as plt\n",
    "import numpy as np"
   ]
  },
  {
   "cell_type": "code",
   "execution_count": 2,
   "metadata": {
    "ExecuteTime": {
     "end_time": "2019-01-08T10:37:10.708674Z",
     "start_time": "2019-01-08T10:37:10.446835Z"
    }
   },
   "outputs": [],
   "source": [
    "physicsClient = p.connect(p.GUI)#or p.DIRECT for non-graphical version\n",
    "p.setAdditionalSearchPath(pybullet_data.getDataPath()) #used by loadURDF"
   ]
  },
  {
   "cell_type": "code",
   "execution_count": 3,
   "metadata": {
    "ExecuteTime": {
     "end_time": "2019-01-08T10:37:11.537165Z",
     "start_time": "2019-01-08T10:37:11.467206Z"
    }
   },
   "outputs": [],
   "source": [
    "p.setGravity(0,0,-9.8)\n",
    "planeId = p.loadURDF(\"plane.urdf\")"
   ]
  },
  {
   "cell_type": "markdown",
   "metadata": {},
   "source": [
    "# 导入机器人"
   ]
  },
  {
   "cell_type": "markdown",
   "metadata": {
    "ExecuteTime": {
     "end_time": "2019-01-06T16:15:51.401159Z",
     "start_time": "2019-01-06T16:15:51.392163Z"
    }
   },
   "source": [
    "[nachi.urdf](https://github.com/houliwei/PhD/blob/master/nachi/nachi.urdf)"
   ]
  },
  {
   "cell_type": "code",
   "execution_count": 4,
   "metadata": {
    "ExecuteTime": {
     "end_time": "2019-01-08T10:37:18.682753Z",
     "start_time": "2019-01-08T10:37:17.712353Z"
    }
   },
   "outputs": [
    {
     "name": "stdout",
     "output_type": "stream",
     "text": [
      "6\n",
      "1\n",
      "(0, b'J1', 0, 7, 6, 1, 0.0, 0.0, 0.0, -1.0, 0.0, 0.0, b'Link1', (0.0, 0.0, 1.0), (0.04471199959516525, -0.05182100087404251, 3.1194998882710934e-05), (-0.7071026262591633, -0.0027723413906732925, 0.00277235142653978, 0.7071000665593062), -1)\n",
      "(1, b'J2', 0, 8, 7, 1, 0.0, 0.0, 0.0, -1.0, 0.0, 0.0, b'Link2', (0.0, 1.0, 0.0), (0.019703999161720276, -0.0008962799911387265, 0.08334000408649445), (0.0, 0.0, -4.163349908106383e-17, 1.0), 0)\n",
      "(2, b'J3', 0, 9, 8, 1, 0.0, 0.0, 0.0, -1.0, 0.0, 0.0, b'Link3', (0.0, 1.0, 0.0), (0.022938000038266182, 0.0007837699959054589, 0.13047999143600464), (-6.1384472228373e-11, 0.0034577931290741657, -1.7752393786815822e-08, 0.9999940218154688), 1)\n",
      "(3, b'J4', 0, 10, 9, 1, 0.0, 0.0, 0.0, -1.0, 0.0, 0.0, b'Link4', (1.0, 0.0, 0.0), (0.0795740607281914, 0.00023600000713486224, 0.01943100057542324), (0.009682348513957493, -4.214450431999829e-18, -3.2618609447958486e-16, 0.9999531249649927), 2)\n",
      "(4, b'J5', 0, 11, 10, 1, 0.0, 0.0, 0.0, -1.0, 0.0, 0.0, b'Link5', (0.0, 1.0, 0.0), (0.10264899581670761, -9.467599738854915e-05, -0.0031244000419974327), (2.83710311447579e-18, -0.0009131998999188996, 6.924465596854025e-16, 0.9999995830328845), 3)\n",
      "(5, b'J6', 0, 12, 11, 1, 0.0, 0.0, 0.0, -1.0, 0.0, 0.0, b'Link6', (1.0, 0.0, 0.0), (0.041283002123236656, 0.003738400060683489, 6.197499897098169e-05), (-0.009691848489771452, 3.465087731547649e-18, -9.40127714382353e-16, 0.999953032933473), 4)\n"
     ]
    }
   ],
   "source": [
    "cubeStartPos = [0,0,0]\n",
    "cubeStartOrientation = p.getQuaternionFromEuler([3*math.pi/2,0,0])\n",
    "boxId = p.loadURDF(\"nachi/nachi.urdf\",cubeStartPos, cubeStartOrientation,useFixedBase=True)\n",
    "#关节数\n",
    "print(p.getNumJoints(boxId))\n",
    "print(boxId)\n",
    "# 查看关节信息\n",
    "for i in range(6):\n",
    "    print(p.getJointInfo(boxId,i))"
   ]
  },
  {
   "cell_type": "markdown",
   "metadata": {},
   "source": [
    "# 仿真Ⅰ:自由空间运动"
   ]
  },
  {
   "cell_type": "code",
   "execution_count": 5,
   "metadata": {
    "ExecuteTime": {
     "end_time": "2019-01-08T10:37:50.060378Z",
     "start_time": "2019-01-08T10:37:34.320096Z"
    }
   },
   "outputs": [
    {
     "name": "stdout",
     "output_type": "stream",
     "text": [
      "()\n"
     ]
    }
   ],
   "source": [
    "'''\n",
    "两种仿真模式\n",
    "（1）p.stepSimulation() #perform all the actions in a single forward dynamics simulation step such as collision detection, constraint solving and integration.\n",
    "（2）p.setRealTimeSimulation(1)\n",
    "'''\n",
    "\n",
    "\n",
    " #Joint damping coefficents. \n",
    "jd=[0.5,0.5,0.5,0.5,0.5,0.5,0.5]  #Using large values for the joints that we don't want to move. eg：jd=[100.0,100.0,100.0,100.0,100.0,100.0,0.5]\n",
    "# 初始位姿\n",
    "pos = [0.1,0,0.6]\n",
    "orn = p.getQuaternionFromEuler([3.14,0,0])\n",
    "J5P = 0\n",
    "#安装力传感器\n",
    "p.enableJointForceTorqueSensor(boxId,5)\n",
    "# x方向力的记录\n",
    "Fx1 = []\n",
    "# 仿真\n",
    "for i in range(501):\n",
    "    p.stepSimulation()\n",
    "    #for i in range (1):\n",
    "    pos[0] += 0.001\n",
    "    jointPoses = p.calculateInverseKinematics(boxId,5,pos,orn,jointDamping=jd)\n",
    "    p.setJointMotorControlArray(boxId,[0,1,2,3,4,5],controlMode=p.POSITION_CONTROL,targetPositions=jointPoses,\n",
    "                                targetVelocities=[0,0,0,0,0,0],forces=[500,500,500,500,500,500],\n",
    "                               positionGains=[0.03,0.03,0.03,0.03,0.03,0.03],\n",
    "                               velocityGains=[1,1,1,1,1,1])\n",
    "    J5EndState=p.getJointState(boxId,jointIndex=5)    # output: (1)jointPosition ; (2)jointVelocity ; (3)jointReactionForces (4)appliedJointMotorTorque\n",
    "    Fx1.append(J5EndState[2][0])     #get F in x-axis\n",
    "    time.sleep(0.03)\n",
    "#print(p.getContactPoints())   "
   ]
  },
  {
   "cell_type": "code",
   "execution_count": 6,
   "metadata": {
    "ExecuteTime": {
     "end_time": "2019-01-07T14:54:16.773190Z",
     "start_time": "2019-01-07T14:54:16.356122Z"
    }
   },
   "outputs": [
    {
     "data": {
      "image/png": "[encoded data removed]",
      "text/plain": [
       "<Figure size 432x288 with 1 Axes>"
      ]
     },
     "metadata": {
      "needs_background": "light"
     },
     "output_type": "display_data"
    }
   ],
   "source": [
    "# 作图\n",
    "x1 = np.linspace(1, 500,500)\n",
    "y1 = Fx1[1:]\n",
    "plt.plot(x1, y1, 'r-')\n",
    "plt.show()\n",
    "# 关闭仿真器\n",
    "p.disconnect()"
   ]
  },
  {
   "cell_type": "markdown",
   "metadata": {
    "ExecuteTime": {
     "end_time": "2019-01-07T03:41:56.029998Z",
     "start_time": "2019-01-07T03:41:52.873Z"
    }
   },
   "source": [
    "# 仿真2：约束空间运动"
   ]
  },
  {
   "cell_type": "code",
   "execution_count": 1,
   "metadata": {
    "ExecuteTime": {
     "end_time": "2019-01-08T10:32:07.944588Z",
     "start_time": "2019-01-08T10:32:07.593803Z"
    }
   },
   "outputs": [],
   "source": [
    "%matplotlib inline\n",
    "import pybullet as p\n",
    "import pybullet_data\n",
    "import math\n",
    "import time\n",
    "import matplotlib.pyplot as plt\n",
    "import numpy as np"
   ]
  },
  {
   "cell_type": "code",
   "execution_count": 2,
   "metadata": {
    "ExecuteTime": {
     "end_time": "2019-01-08T10:32:08.435284Z",
     "start_time": "2019-01-08T10:32:08.204426Z"
    }
   },
   "outputs": [],
   "source": [
    "# 准备\n",
    "physicsClient = p.connect(p.GUI)#or p.DIRECT for non-graphical version"
   ]
  },
  {
   "cell_type": "code",
   "execution_count": 3,
   "metadata": {
    "ExecuteTime": {
     "end_time": "2019-01-08T10:32:08.899996Z",
     "start_time": "2019-01-08T10:32:08.817047Z"
    }
   },
   "outputs": [],
   "source": [
    "p.setAdditionalSearchPath(pybullet_data.getDataPath()) #used by loadURDF\n",
    "p.setGravity(0,0,-9.8)\n",
    "planeId = p.loadURDF(\"plane.urdf\")"
   ]
  },
  {
   "cell_type": "code",
   "execution_count": 4,
   "metadata": {
    "ExecuteTime": {
     "end_time": "2019-01-08T10:32:10.209189Z",
     "start_time": "2019-01-08T10:32:09.397691Z"
    }
   },
   "outputs": [],
   "source": [
    "#导入机器人\n",
    "cubeStartPos1 = [0,0,0]\n",
    "cubeStartOrientation1 = p.getQuaternionFromEuler([3*math.pi/2,0,0])\n",
    "boxId = p.loadURDF(\"nachi/nachi.urdf\",cubeStartPos1, cubeStartOrientation1,useFixedBase=True)\n",
    "\n",
    "for i in range(1):\n",
    "    p.stepSimulation()\n",
    "InitialJointState = p.getJointState(boxId,jointIndex=5)  #（1）jointPosition （2）jointVelocity （3）jointReactionForces （4）appliedJointMotorTorque\n"
   ]
  },
  {
   "cell_type": "code",
   "execution_count": 5,
   "metadata": {
    "ExecuteTime": {
     "end_time": "2019-01-08T10:32:11.026687Z",
     "start_time": "2019-01-08T10:32:10.223182Z"
    }
   },
   "outputs": [],
   "source": [
    "#导入障碍物\n",
    "cubeStartPos2 = [0.5,0,0]\n",
    "#cubeStartOrientation2 = p.getQuaternionFromEuler([3*math.pi/2,0,math.pi])\n",
    "cubeStartOrientation2 = p.getQuaternionFromEuler([3*math.pi/2,0,0])\n",
    "boxId2 = p.loadURDF(\"nachi/nachi.urdf\",cubeStartPos2, cubeStartOrientation2,useFixedBase=False)"
   ]
  },
  {
   "cell_type": "code",
   "execution_count": 7,
   "metadata": {
    "ExecuteTime": {
     "end_time": "2019-01-08T10:34:51.584561Z",
     "start_time": "2019-01-08T10:34:41.239949Z"
    }
   },
   "outputs": [
    {
     "name": "stdout",
     "output_type": "stream",
     "text": [
      "((0, 0, 2, -1, -1, (0.5670919099354718, 0.019351276942744668, -2.237793284010081e-16), (0.5671318812091182, 0.019355148372780837, -8.486799168899717e-06), (7.812684663478194e-13, -4.691098603740255e-13, -1.0), -8.48679916870535e-06, 41.07342389770253, -0.3181596103633256, (0.0, 1.0, -4.691098603740255e-13), -14.612405047950196, (1.0, 3.665007411630546e-25, 7.812684663478194e-13)), (0, 0, 2, -1, -1, (0.5669234613544092, -0.020631654167606883, -6.678685382510707e-16), (0.5669234613544092, -0.020631654167606872, -1.090094604851155e-05), (-5.581537140743384e-13, 6.436210015419714e-13, -1.0), -1.0900946047843682e-05, 34.86142071124822, 0.8475027436859545, (0.0, 1.0, 6.436210015419714e-13), -1.5243973395214525, (1.0, 3.592394524668968e-25, -5.581537140743384e-13)), (0, 0, 2, -1, 5, (1.2459557664299015, -0.006637118015145992, -2.237793284010081e-16), (1.2459557664299015, -0.006637118015145986, -1.1025621710299138e-05), (-8.931019216685515e-13, 5.612412955016728e-13, -1.0), -1.1025621710075359e-05, 61.28256173414851, -0.5246070959456329, (0.0, 1.0, 5.612412955016728e-13), 16.13656226301661, (1.0, 5.012456795322913e-25, -8.931019216685515e-13)))\n"
     ]
    }
   ],
   "source": [
    "\n",
    "#Joint damping coefficents. \n",
    "jd=[0.5,0.5,0.5,0.5,0.5,0.5,0.5]  #Using large values for the joints that we don't want to move. eg：jd=[100.0,100.0,100.0,100.0,100.0,100.0,0.5]\n",
    "\n",
    "# 初始位姿\n",
    "#pos = [0.1,0,0.5]\n",
    "InitialLinkState = p.getLinkState(boxId,5) \n",
    "InitialLinkState = list(InitialLinkState)     # 元组转列表\n",
    "InitialLinkState[0] = list(InitialLinkState[0])   # 元组转列表\n",
    "#orn = p.getQuaternionFromEuler([3.14,0,0])\n",
    "orn = (0.0002783781085675267, 0.043552660059200485, -0.004722025404943391, 0.9990399345288813)\n",
    "#安装力传感器\n",
    "p.enableJointForceTorqueSensor(boxId,5)\n",
    "# x方向力的记录\n",
    "Fx1 = []\n",
    "# 仿真\n",
    "while InitialLinkState[0][0] <= 1:\n",
    "    p.stepSimulation()\n",
    "    if InitialLinkState[0][2] >= 0.5:\n",
    "        InitialLinkState[0][2] -= 0.01\n",
    "    else:\n",
    "        InitialLinkState[0][0] += 0.01\n",
    "    jointPoses = p.calculateInverseKinematics(boxId,5,InitialLinkState[0],orn,jointDamping=jd)\n",
    "    p.setJointMotorControlArray(boxId,[0,1,2,3,4,5],controlMode=p.POSITION_CONTROL, targetPositions=jointPoses,\n",
    "                                targetVelocities=[0,0,0,0,0,0],forces=[500,500,500,500,500,500],\n",
    "                               positionGains=[0.03,0.03,0.03,0.03,0.03,0.03],\n",
    "                               velocityGains=[1,1,1,1,1,1])\n",
    "    J5EndState=p.getJointState(boxId,jointIndex=5)    # output: (1)jointPosition ; (2)jointVelocity ; (3)jointReactionForces (4)appliedJointMotorTorque\n",
    "    Fx1.append(J5EndState[2][0])     #get F in x-axis\n",
    "    time.sleep(0.05)\n",
    "for i in range(100):\n",
    "    p.stepSimulation()\n",
    "    pos = [0.1,0,0.6]\n",
    "  #  FinishPose = p.calculateInverseKinematics(boxId,5,pos,orn,jointDamping=jd)      \n",
    "    FinishPose = p.calculateInverseKinematics(boxId,5,pos,jointDamping=jd)  \n",
    "    p.setJointMotorControlArray(boxId,[0,1,2,3,4,5],controlMode=p.POSITION_CONTROL, targetPositions = FinishPose,\n",
    "                                targetVelocities=[0,0,0,0,0,0],forces=[500,500,500,500,500,500],\n",
    "                               positionGains=[0.03,0.03,0.03,0.03,0.03,0.03],\n",
    "                               velocityGains=[1,1,1,1,1,1])\n",
    "\n",
    "    time.sleep(0.05)\n",
    "#print(p.getContactPoints())   "
   ]
  },
  {
   "cell_type": "code",
   "execution_count": 7,
   "metadata": {
    "ExecuteTime": {
     "end_time": "2019-01-07T17:08:00.759082Z",
     "start_time": "2019-01-07T17:08:00.328347Z"
    }
   },
   "outputs": [
    {
     "data": {
      "image/png": "[encoded data removed]",
      "text/plain": [
       "<Figure size 432x288 with 1 Axes>"
      ]
     },
     "metadata": {
      "needs_background": "light"
     },
     "output_type": "display_data"
    }
   ],
   "source": [
    "# 作图\n",
    "#x1 = np.linspace(0, 1000,1000)\n",
    "y1 = Fx1\n",
    "#plt.plot(x1, y1, 'r-')\n",
    "plt.plot(y1, 'r-')\n",
    "plt.show()"
   ]
  },
  {
   "cell_type": "code",
   "execution_count": null,
   "metadata": {},
   "outputs": [],
   "source": [
    "# 关闭仿真器\n",
    "p.disconnect()"
   ]
  },
  {
   "cell_type": "markdown",
   "metadata": {},
   "source": [
    "# 仿真3：约束空间运动（柔顺）"
   ]
  },
  {
   "cell_type": "code",
   "execution_count": 1,
   "metadata": {
    "ExecuteTime": {
     "end_time": "2019-01-08T16:17:08.606258Z",
     "start_time": "2019-01-08T16:17:08.199506Z"
    }
   },
   "outputs": [],
   "source": [
    "%matplotlib inline\n",
    "import pybullet as p\n",
    "import pybullet_data\n",
    "import math\n",
    "import time\n",
    "import matplotlib.pyplot as plt\n",
    "import numpy as np"
   ]
  },
  {
   "cell_type": "code",
   "execution_count": 2,
   "metadata": {
    "ExecuteTime": {
     "end_time": "2019-01-08T16:17:08.880086Z",
     "start_time": "2019-01-08T16:17:08.840111Z"
    }
   },
   "outputs": [],
   "source": [
    "# 阻抗控制器\n",
    "class ImpedanceControl:\n",
    "    def __init__(self):\n",
    "        self.Md = 0\n",
    "        self.Bd = 0\n",
    "        self.Kd = 0\n",
    "        self.Initialize()\n",
    "    def Initialize(self):\n",
    "        #set time variable\n",
    "        import time\n",
    "        self.currtm = time.time()\n",
    "        self.prevtm = self.currtm\n",
    "        NoT = 0  #number of cycle\n",
    "    def SetMd(self,MdInput):\n",
    "        self.Md = MdInput\n",
    "    def SetBd(self,BdInput):\n",
    "        self.Bd = BdInput\n",
    "    def SetKd(self,KdInput):\n",
    "        self.Kd = KdInput\n",
    "    def GenOut(self,PPerror,Perror,Cerror,PPdeltaX,PdeltaX):\n",
    "        Omega1 = 4*self.Md + 2*self.Bd*T + self.Kd*(T**2)\n",
    "        Omega2 = -8*self.Md + 2*self.Kd*(T**2)\n",
    "        Omega3 = 4*self.Md - 2*self.Bd*T + self.Kd*(T**2)\n",
    "        if NoT == 1:\n",
    "            return T**2 / Omega1 * Cerror\n",
    "        elif NoT == 2:\n",
    "            return T**2 / Omega1 * (Cerror + 2*Perror) - Omega2/Omega1*PdeltaX\n",
    "        else:\n",
    "            return T**2 / Omega1 *(Cerror + 2*Perror + PPerror) - (Omega2/Omega1)*PdeltaX - (Omega3/Omega1)*PPdeltaX"
   ]
  },
  {
   "cell_type": "code",
   "execution_count": 3,
   "metadata": {
    "ExecuteTime": {
     "end_time": "2019-01-08T16:17:09.293830Z",
     "start_time": "2019-01-08T16:17:09.285837Z"
    }
   },
   "outputs": [],
   "source": [
    "#创建实例\n",
    "IC = ImpedanceControl()\n",
    "#设置阻抗控制参数\n",
    "IC.SetMd(0.01)    \n",
    "IC.SetBd(0.01)  \n",
    "IC.SetKd(1) \n",
    "# 阻抗控制器工作频率100Hz\n",
    "T = 0.01\n",
    "#Ke = 20    #stiffness of the environment\n",
    "\n",
    "pperror,perror = 0,0\n",
    "deltax,pdeltax,ppdeltax = 0,0,0"
   ]
  },
  {
   "cell_type": "code",
   "execution_count": 4,
   "metadata": {
    "ExecuteTime": {
     "end_time": "2019-01-08T16:17:10.216263Z",
     "start_time": "2019-01-08T16:17:09.855482Z"
    }
   },
   "outputs": [],
   "source": [
    "# 准备\n",
    "physicsClient = p.connect(p.GUI)#or p.DIRECT for non-graphical version\n",
    "p.setAdditionalSearchPath(pybullet_data.getDataPath()) #used by loadURDF\n",
    "p.setGravity(0,0,-9.8)\n",
    "planeId = p.loadURDF(\"plane.urdf\")"
   ]
  },
  {
   "cell_type": "code",
   "execution_count": 5,
   "metadata": {
    "ExecuteTime": {
     "end_time": "2019-01-08T16:17:12.705726Z",
     "start_time": "2019-01-08T16:17:11.176671Z"
    }
   },
   "outputs": [],
   "source": [
    "#导入机器人\n",
    "cubeStartPos1 = [0,0,0]\n",
    "cubeStartOrientation1 = p.getQuaternionFromEuler([3*math.pi/2,0,0])\n",
    "boxId = p.loadURDF(\"nachi/nachi.urdf\",cubeStartPos1, cubeStartOrientation1,useFixedBase=True)\n",
    "\n",
    "for i in range(1):\n",
    "    p.stepSimulation()\n",
    "InitialJointState = p.getJointState(boxId,jointIndex=5)  #（1）jointPosition （2）jointVelocity （3）jointReactionForces （4）appliedJointMotorTorque\n",
    "\n",
    "#导入障碍物\n",
    "cubeStartPos2 = [0.5,0,0]\n",
    "#cubeStartOrientation2 = p.getQuaternionFromEuler([3*math.pi/2,0,math.pi])\n",
    "cubeStartOrientation2 = p.getQuaternionFromEuler([3*math.pi/2,0,0])\n",
    "boxId2 = p.loadURDF(\"nachi/nachi.urdf\",cubeStartPos2, cubeStartOrientation2,useFixedBase=False)"
   ]
  },
  {
   "cell_type": "code",
   "execution_count": 6,
   "metadata": {
    "ExecuteTime": {
     "end_time": "2019-01-08T16:17:36.284171Z",
     "start_time": "2019-01-08T16:17:16.772214Z"
    }
   },
   "outputs": [
    {
     "name": "stdout",
     "output_type": "stream",
     "text": [
      "4\n"
     ]
    }
   ],
   "source": [
    "#Joint damping coefficents. \n",
    "jd=[0.5,0.5,0.5,0.5,0.5,0.5,0.5]  #Using large values for the joints that we don't want to move. eg：jd=[100.0,100.0,100.0,100.0,100.0,100.0,0.5]\n",
    "\n",
    "# 初始位姿\n",
    "#pos = [0.1,0,0.5]\n",
    "#InitialLinkState = p.getLinkState(boxId,5) \n",
    "#InitialLinkState = list(InitialLinkState)     # 元组转列表\n",
    "#InitialLinkState[0] = list(InitialLinkState[0])   # 元组转列表\n",
    "#orn = p.getQuaternionFromEuler([3.14,0,0])\n",
    "orn = (0.0002783781085675267, 0.043552660059200485, -0.004722025404943391, 0.9990399345288813)\n",
    "#安装力传感器\n",
    "p.enableJointForceTorqueSensor(boxId,5)\n",
    "# x方向力的记录\n",
    "Fx1 = []\n",
    "# 仿真\n",
    "PostContactCount = 0\n",
    "NoT = 0\n",
    "Fd = 5  # 恒定为5N\n",
    "p.setTimeStep(0.01)   #############\n",
    "Trajectory=[]\n",
    "while p.getLinkState(boxId,5)[0][0] <= 0.55: \n",
    "    InitialLinkState = p.getLinkState(boxId,5) \n",
    "    InitialLinkState = list(InitialLinkState)  # 元组转列表\n",
    "    InitialLinkState[0] = list(InitialLinkState[0]) # 元组转列表\n",
    "    if p.getLinkState(boxId,5)[0][2] >= 0.5:\n",
    "        InitialLinkState[0][2] -= 0.01\n",
    "    else:\n",
    "        InitialLinkState[0][0] = InitialLinkState[0][0] + 0.01 - deltax\n",
    "\n",
    "        \n",
    "#    jointPoses = p.calculateInverseKinematics(boxId,5,InitialLinkState[0],orn,jointDamping=jd)\n",
    "    jointPoses = p.calculateInverseKinematics(boxId,5,InitialLinkState[0],jointDamping=jd)\n",
    "#    p.setJointMotorControlArray(boxId,[0,1,2,3,4,5],controlMode=p.POSITION_CONTROL, targetPositions=jointPoses,\n",
    "#                                targetVelocities=[0,0,0,0,0,0],forces=[500,500,500,500,500,500],\n",
    "#                               positionGains=[0.03,0.03,0.03,0.03,0.03,0.03],\n",
    "#                               velocityGains=[1,1,1,1,1,1])\n",
    "    p.setJointMotorControlArray(boxId,[0,1,2,3,4,5],controlMode=p.POSITION_CONTROL, targetPositions=jointPoses,\n",
    "                                targetVelocities=[0,0,0,0,0,0])\n",
    "    \n",
    "    p.stepSimulation()   #check\n",
    "    Trajectory.append(p.getLinkState(boxId,5)[0][0]) \n",
    "    \n",
    "    J5EndState=p.getJointState(boxId,jointIndex=5)    # output: (1)jointPosition ; (2)jointVelocity ; (3)jointReactionForces (4)appliedJointMotorTorque\n",
    "    Fx1.append(J5EndState[2][0])     #get F in x-axis\n",
    "#    print(p.getContactPoints())\n",
    "    ContactCount = len(p.getContactPoints())\n",
    "    ContactCountIncre = ContactCount - PostContactCount\n",
    "\n",
    "    if ContactCountIncre > 0:       #接触后便恒力跟踪\n",
    "        error = J5EndState[2][0] - Fd  # + - ???\n",
    "        deltax = IC.GenOut(PPerror=pperror,Perror=perror,Cerror=error,PPdeltaX=ppdeltax,PdeltaX=pdeltax)\n",
    "        # prepare for next loop\n",
    "        ppdeltax = pdeltax\n",
    "        pdeltax = deltax\n",
    "        pperror = perror\n",
    "        perror = error   \n",
    "    else:\n",
    "        deltax = 0            \n",
    "    PostContactCount = ContactCount    \n",
    "   \n",
    "    time.sleep(0.05)    \n",
    "  \n",
    "    \n",
    "for i in range(100):\n",
    "    p.stepSimulation()\n",
    "    pos = [0.1,0,0.6]\n",
    "  #  FinishPose = p.calculateInverseKinematics(boxId,5,pos,orn,jointDamping=jd)      \n",
    "    FinishPose = p.calculateInverseKinematics(boxId,5,pos,jointDamping=jd)  \n",
    "    p.setJointMotorControlArray(boxId,[0,1,2,3,4,5],controlMode=p.POSITION_CONTROL, targetPositions = FinishPose,\n",
    "                                targetVelocities=[0,0,0,0,0,0],forces=[500,500,500,500,500,500],\n",
    "                               positionGains=[0.03,0.03,0.03,0.03,0.03,0.03],\n",
    "                               velocityGains=[1,1,1,1,1,1])   \n",
    "    time.sleep(0.05)\n",
    "print(len(p.getContactPoints()))   "
   ]
  },
  {
   "cell_type": "code",
   "execution_count": 8,
   "metadata": {
    "ExecuteTime": {
     "end_time": "2019-01-08T16:17:54.056198Z",
     "start_time": "2019-01-08T16:17:53.708413Z"
    }
   },
   "outputs": [
    {
     "name": "stdout",
     "output_type": "stream",
     "text": [
      "4\n"
     ]
    },
    {
     "data": {
      "image/png": "[encoded data removed]",
      "text/plain": [
       "<Figure size 432x288 with 1 Axes>"
      ]
     },
     "metadata": {
      "needs_background": "light"
     },
     "output_type": "display_data"
    }
   ],
   "source": [
    "print(len(p.getContactPoints()))   \n",
    "# 作图\n",
    "#x1 = np.linspace(0, 1000,1000)\n",
    "\n",
    "\n",
    "\n",
    "y1 = Trajectory\n",
    "y1 = Fx1\n",
    "\n",
    "#plt.plot(x1, y1, 'r-')\n",
    "plt.plot(y1, 'r-')\n",
    "plt.show()"
   ]
  },
  {
   "cell_type": "code",
   "execution_count": null,
   "metadata": {},
   "outputs": [],
   "source": [
    "# 关闭仿真器\n",
    "p.disconnect()"
   ]
  }
 ],
 "metadata": {
  "kernelspec": {
   "display_name": "Python 3",
   "language": "python",
   "name": "python3"
  },
  "language_info": {
   "codemirror_mode": {
    "name": "ipython",
    "version": 3
   },
   "file_extension": ".py",
   "mimetype": "text/x-python",
   "name": "python",
   "nbconvert_exporter": "python",
   "pygments_lexer": "ipython3",
   "version": "3.7.2"
  },
  "toc": {
   "base_numbering": 1,
   "nav_menu": {},
   "number_sections": true,
   "sideBar": true,
   "skip_h1_title": false,
   "title_cell": "Table of Contents",
   "title_sidebar": "Contents",
   "toc_cell": false,
   "toc_position": {},
   "toc_section_display": true,
   "toc_window_display": false
  }
 },
 "nbformat": 4,
 "nbformat_minor": 2
}
